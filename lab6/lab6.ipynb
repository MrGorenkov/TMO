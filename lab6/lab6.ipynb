{
 "cells": [
  {
   "cell_type": "code",
   "execution_count": 1,
   "id": "79e6a095",
   "metadata": {},
   "outputs": [
    {
     "name": "stdout",
     "output_type": "stream",
     "text": [
      "Stacking Accuracy: 0.4369\n",
      "MLP Accuracy: 0.3495\n",
      "\n",
      "Сравнение моделей:\n",
      "- Stacking Classifier: 0.4369\n",
      "- MLP Classifier: 0.3495\n",
      "\n",
      "Лучшая модель: Stacking Classifier\n"
     ]
    },
    {
     "name": "stderr",
     "output_type": "stream",
     "text": [
      "/Library/Frameworks/Python.framework/Versions/3.10/lib/python3.10/site-packages/sklearn/model_selection/_split.py:776: UserWarning: The least populated class in y has only 3 members, which is less than n_splits=5.\n",
      "  warnings.warn(\n",
      "/Library/Frameworks/Python.framework/Versions/3.10/lib/python3.10/site-packages/sklearn/model_selection/_split.py:776: UserWarning: The least populated class in y has only 3 members, which is less than n_splits=5.\n",
      "  warnings.warn(\n"
     ]
    }
   ],
   "source": [
    "import pandas as pd\n",
    "import numpy as np\n",
    "from sklearn.model_selection import train_test_split\n",
    "from sklearn.preprocessing import StandardScaler, LabelEncoder\n",
    "from sklearn.ensemble import StackingClassifier\n",
    "from sklearn.linear_model import LogisticRegression\n",
    "from sklearn.tree import DecisionTreeClassifier\n",
    "from sklearn.svm import SVC\n",
    "from sklearn.neural_network import MLPClassifier\n",
    "from sklearn.metrics import accuracy_score\n",
    "\n",
    "# Загрузка и предобработка данных\n",
    "df = pd.read_csv(\"Most popular 1000 Youtube videos.csv\")\n",
    "df = df.dropna()\n",
    "\n",
    "# Преобразование признаков\n",
    "X = df[['Video views', 'Likes', 'Dislikes']].copy()\n",
    "X['Video views'] = X['Video views'].str.replace(',', '').astype(int)\n",
    "X['Likes'] = X['Likes'].str.replace(',', '').astype(int)\n",
    "X['Dislikes'] = X['Dislikes'].str.replace(',', '').astype(int)\n",
    "\n",
    "# Кодирование категорий (преобразуем текстовые метки в числа)\n",
    "label_encoder = LabelEncoder()\n",
    "y = label_encoder.fit_transform(df['Category'])\n",
    "\n",
    "# Разделение данных\n",
    "X_train, X_test, y_train, y_test = train_test_split(X, y, test_size=0.2, random_state=42)\n",
    "\n",
    "# Масштабирование данных\n",
    "scaler = StandardScaler()\n",
    "X_train_scaled = scaler.fit_transform(X_train)\n",
    "X_test_scaled = scaler.transform(X_test)\n",
    "\n",
    "## 1. Модель стекинга\n",
    "estimators = [\n",
    "    ('dt', DecisionTreeClassifier(max_depth=5, random_state=42)),\n",
    "    ('svm', SVC(kernel='rbf', probability=True, random_state=42))\n",
    "]\n",
    "\n",
    "stacking_model = StackingClassifier(\n",
    "    estimators=estimators,\n",
    "    final_estimator=LogisticRegression(max_iter=1000),\n",
    "    cv=5\n",
    ")\n",
    "\n",
    "stacking_model.fit(X_train_scaled, y_train)\n",
    "y_pred_stack = stacking_model.predict(X_test_scaled)\n",
    "stack_accuracy = accuracy_score(y_test, y_pred_stack)\n",
    "print(f\"Stacking Accuracy: {stack_accuracy:.4f}\")\n",
    "\n",
    "## 2. Многослойный персептрон\n",
    "mlp = MLPClassifier(\n",
    "    hidden_layer_sizes=(100, 50),\n",
    "    activation='relu',\n",
    "    solver='adam',\n",
    "    max_iter=500,\n",
    "    random_state=42,\n",
    "    early_stopping=True\n",
    ")\n",
    "\n",
    "mlp.fit(X_train_scaled, y_train)\n",
    "y_pred_mlp = mlp.predict(X_test_scaled)\n",
    "mlp_accuracy = accuracy_score(y_test, y_pred_mlp)\n",
    "print(f\"MLP Accuracy: {mlp_accuracy:.4f}\")\n",
    "\n",
    "## Сравнение моделей\n",
    "print(\"\\nСравнение моделей:\")\n",
    "print(f\"- Stacking Classifier: {stack_accuracy:.4f}\")\n",
    "print(f\"- MLP Classifier: {mlp_accuracy:.4f}\")\n",
    "\n",
    "if stack_accuracy > mlp_accuracy:\n",
    "    print(\"\\nЛучшая модель: Stacking Classifier\")\n",
    "elif mlp_accuracy > stack_accuracy:\n",
    "    print(\"\\nЛучшая модель: MLP Classifier\")\n",
    "else:\n",
    "    print(\"\\nМодели показали одинаковую точность\")"
   ]
  }
 ],
 "metadata": {
  "kernelspec": {
   "display_name": "Python 3",
   "language": "python",
   "name": "python3"
  },
  "language_info": {
   "codemirror_mode": {
    "name": "ipython",
    "version": 3
   },
   "file_extension": ".py",
   "mimetype": "text/x-python",
   "name": "python",
   "nbconvert_exporter": "python",
   "pygments_lexer": "ipython3",
   "version": "3.10.5"
  }
 },
 "nbformat": 4,
 "nbformat_minor": 5
}

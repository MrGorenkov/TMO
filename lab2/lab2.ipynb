{
 "cells": [
  {
   "cell_type": "code",
   "execution_count": 59,
   "metadata": {},
   "outputs": [],
   "source": [
    "import pandas as pd\n",
    "import numpy as np\n",
    "from sklearn.impute import SimpleImputer\n",
    "from sklearn.preprocessing import LabelEncoder, MinMaxScaler\n"
   ]
  },
  {
   "cell_type": "code",
   "execution_count": 71,
   "metadata": {},
   "outputs": [],
   "source": [
    "# Загрузка датасета\n",
    "df = pd.read_csv(\"Most popular 1000 Youtube videos.csv\")\n"
   ]
  },
  {
   "cell_type": "code",
   "execution_count": 72,
   "metadata": {},
   "outputs": [
    {
     "name": "stdout",
     "output_type": "stream",
     "text": [
      "Обзор данных:\n",
      "<class 'pandas.core.frame.DataFrame'>\n",
      "RangeIndex: 1000 entries, 0 to 999\n",
      "Data columns (total 7 columns):\n",
      " #   Column       Non-Null Count  Dtype \n",
      "---  ------       --------------  ----- \n",
      " 0   rank         1000 non-null   int64 \n",
      " 1   Video        1000 non-null   object\n",
      " 2   Video views  1000 non-null   object\n",
      " 3   Likes        1000 non-null   object\n",
      " 4   Dislikes     527 non-null    object\n",
      " 5   Category     982 non-null    object\n",
      " 6   published    1000 non-null   int64 \n",
      "dtypes: int64(2), object(5)\n",
      "memory usage: 54.8+ KB\n",
      "None\n",
      "\n",
      "Пропущенные значения:\n",
      "rank             0\n",
      "Video            0\n",
      "Video views      0\n",
      "Likes            0\n",
      "Dislikes       473\n",
      "Category        18\n",
      "published        0\n",
      "dtype: int64\n"
     ]
    }
   ],
   "source": [
    "# Первичный анализ данных\n",
    "print(\"Обзор данных:\")\n",
    "print(df.info())\n",
    "print(\"\\nПропущенные значения:\")\n",
    "print(df.isnull().sum())"
   ]
  },
  {
   "cell_type": "markdown",
   "metadata": {},
   "source": [
    "# 1. Обработка пропусков в данных"
   ]
  },
  {
   "cell_type": "code",
   "execution_count": 68,
   "metadata": {},
   "outputs": [],
   "source": [
    "# Заполняем пропуски медианным значением для числовых столбцов\n",
    "num_cols = ['Dislikes']  \n",
    "imputer = SimpleImputer(strategy='median')\n",
    "df[num_cols] = imputer.fit_transform(df[num_cols])\n"
   ]
  },
  {
   "cell_type": "code",
   "execution_count": 73,
   "metadata": {},
   "outputs": [],
   "source": [
    "# Преобразуем колонку 'Dislikes' в числовой формат\n",
    "df['Dislikes'] = df['Dislikes'].str.replace(',', '').astype(float)"
   ]
  },
  {
   "cell_type": "code",
   "execution_count": 39,
   "metadata": {},
   "outputs": [],
   "source": [
    "# Заполняем пропуски медианным значением\n",
    "imputer = SimpleImputer(strategy='median')\n",
    "df[['Dislikes']] = imputer.fit_transform(df[['Dislikes']])"
   ]
  },
  {
   "cell_type": "code",
   "execution_count": 74,
   "metadata": {},
   "outputs": [
    {
     "name": "stdout",
     "output_type": "stream",
     "text": [
      "\n",
      "Пропущенные значения:\n",
      "rank             0\n",
      "Video            0\n",
      "Video views      0\n",
      "Likes            0\n",
      "Dislikes       473\n",
      "Category        18\n",
      "published        0\n",
      "dtype: int64\n"
     ]
    }
   ],
   "source": [
    "print(\"\\nПропущенные значения:\")\n",
    "print(df.isnull().sum())"
   ]
  },
  {
   "cell_type": "code",
   "execution_count": 75,
   "metadata": {},
   "outputs": [],
   "source": [
    "# Заполняем пропуски в 'Category' наиболее частым значением\n",
    "imputer_cat = SimpleImputer(strategy='most_frequent')\n",
    "df[['Category']] = imputer_cat.fit_transform(df[['Category']])"
   ]
  },
  {
   "cell_type": "code",
   "execution_count": 76,
   "metadata": {},
   "outputs": [
    {
     "name": "stdout",
     "output_type": "stream",
     "text": [
      "\n",
      "Пропущенные значения:\n",
      "rank             0\n",
      "Video            0\n",
      "Video views      0\n",
      "Likes            0\n",
      "Dislikes       473\n",
      "Category         0\n",
      "published        0\n",
      "dtype: int64\n"
     ]
    }
   ],
   "source": [
    "print(\"\\nПропущенные значения:\")\n",
    "print(df.isnull().sum())"
   ]
  },
  {
   "cell_type": "markdown",
   "metadata": {},
   "source": [
    "# 2. Кодирование категориальных признаков"
   ]
  },
  {
   "cell_type": "code",
   "execution_count": 77,
   "metadata": {},
   "outputs": [],
   "source": [
    "encoder = LabelEncoder()\n",
    "df['Category_encoded'] = encoder.fit_transform(df['Category'])\n"
   ]
  },
  {
   "cell_type": "code",
   "execution_count": 78,
   "metadata": {},
   "outputs": [
    {
     "name": "stdout",
     "output_type": "stream",
     "text": [
      "   rank                                              Video    Video views  \\\n",
      "0     1  Lil Nas X - Old Town Road (Official Movie) ft....     54,071,677   \n",
      "1     2  20 Tennis shots if they were not filmed, NOBOD...      3,471,237   \n",
      "2     3                 JoJo Siwa - Karma (Official Video)     34,206,747   \n",
      "3     4    David Kushner - Daylight (Official Music Video)     18,558,390   \n",
      "4     5  Wiz Khalifa - See You Again ft. Charlie Puth [...  6,547,981,039   \n",
      "\n",
      "        Likes  Dislikes Category  published  Category_encoded  \n",
      "0   3,497,955   78799.0    Music       2019                 7  \n",
      "1      19,023     859.0    Music       2017                 7  \n",
      "2     293,563       NaN    Music       2024                 7  \n",
      "3     680,732       NaN    Music       2023                 7  \n",
      "4  44,428,537       NaN    Music       2015                 7  \n"
     ]
    }
   ],
   "source": [
    "print(df.head())\n"
   ]
  },
  {
   "cell_type": "markdown",
   "metadata": {},
   "source": [
    "# 3. Масштабирование числовых данных"
   ]
  },
  {
   "cell_type": "code",
   "execution_count": 79,
   "metadata": {},
   "outputs": [
    {
     "name": "stdout",
     "output_type": "stream",
     "text": [
      "\n",
      "Обработанный датасет:\n",
      "   rank                                              Video  Video views  \\\n",
      "0     1  Lil Nas X - Old Town Road (Official Movie) ft....     0.008251   \n",
      "1     2  20 Tennis shots if they were not filmed, NOBOD...     0.000523   \n",
      "2     3                 JoJo Siwa - Karma (Official Video)     0.005217   \n",
      "3     4    David Kushner - Daylight (Official Music Video)     0.002827   \n",
      "4     5  Wiz Khalifa - See You Again ft. Charlie Puth [...     1.000000   \n",
      "\n",
      "      Likes  Dislikes Category  published  Category_encoded  \n",
      "0  0.078723  0.442587    Music       2019                 7  \n",
      "1  0.000418  0.004825    Music       2017                 7  \n",
      "2  0.006598       NaN    Music       2024                 7  \n",
      "3  0.015312       NaN    Music       2023                 7  \n",
      "4  1.000000       NaN    Music       2015                 7  \n"
     ]
    }
   ],
   "source": [
    "df['Likes'] = df['Likes'].str.replace(',', '').astype(float)\n",
    "df['Video views'] = df['Video views'].str.replace(',', '').astype(float)\n",
    "\n",
    "\n",
    "num_cols = ['Video views', 'Likes', 'Dislikes']\n",
    "scaler = MinMaxScaler()\n",
    "df[num_cols] = scaler.fit_transform(df[num_cols])\n",
    "\n",
    "# Проверяем обработанные данные\n",
    "print(\"\\nОбработанный датасет:\")\n",
    "print(df.head())\n",
    "\n",
    "# Сохранение обработанного датасета\n",
    "df.to_csv(\"processed_dataset.csv\", index=False)\n"
   ]
  }
 ],
 "metadata": {
  "kernelspec": {
   "display_name": "Python 3",
   "language": "python",
   "name": "python3"
  },
  "language_info": {
   "codemirror_mode": {
    "name": "ipython",
    "version": 3
   },
   "file_extension": ".py",
   "mimetype": "text/x-python",
   "name": "python",
   "nbconvert_exporter": "python",
   "pygments_lexer": "ipython3",
   "version": "3.10.5"
  }
 },
 "nbformat": 4,
 "nbformat_minor": 2
}
